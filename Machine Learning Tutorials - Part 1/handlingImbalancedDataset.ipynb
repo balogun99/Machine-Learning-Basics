{
 "cells": [
  {
   "cell_type": "markdown",
   "id": "142ec9c1-f55e-42eb-a141-3bb145c589bd",
   "metadata": {},
   "source": [
    "# Imbalanced Dataset"
   ]
  },
  {
   "cell_type": "code",
   "execution_count": 3,
   "id": "80a73a5c-bf48-4ae7-94e4-19a87d701fc3",
   "metadata": {},
   "outputs": [],
   "source": [
    "# Is an instance where a dataset contains an unequal class distribution"
   ]
  },
  {
   "cell_type": "code",
   "execution_count": 31,
   "id": "273689f6-db44-46b2-8549-8d086f964283",
   "metadata": {},
   "outputs": [],
   "source": [
    "# Import libraries\n",
    "import numpy as np\n",
    "import pandas as pd\n",
    "# import sklearn.datasets"
   ]
  },
  {
   "cell_type": "code",
   "execution_count": 33,
   "id": "603adf37-e531-4f13-9041-289648a8ffa2",
   "metadata": {},
   "outputs": [],
   "source": [
    "# load the dataset into a pandas dataframe\n",
    "# dataset = sklearn.datasets.load_diabetes()"
   ]
  },
  {
   "cell_type": "code",
   "execution_count": 35,
   "id": "85a892fe-26f7-4f64-9bb9-87d5f8969df8",
   "metadata": {},
   "outputs": [],
   "source": [
    "# dataset"
   ]
  },
  {
   "cell_type": "code",
   "execution_count": 38,
   "id": "7ef3787b-4de0-4470-9bb5-d3feb9b7fa37",
   "metadata": {},
   "outputs": [],
   "source": [
    "dataset = pd.read_csv(\"/Users/balogunishaq/Desktop/Complete Machine Learning Course - Siddhardhan/datasets/SalesPredictData.csv\")"
   ]
  },
  {
   "cell_type": "code",
   "execution_count": 40,
   "id": "764ae28d-0ca1-4211-beb0-6e19f6e072c0",
   "metadata": {},
   "outputs": [
    {
     "data": {
      "text/html": [
       "<div>\n",
       "<style scoped>\n",
       "    .dataframe tbody tr th:only-of-type {\n",
       "        vertical-align: middle;\n",
       "    }\n",
       "\n",
       "    .dataframe tbody tr th {\n",
       "        vertical-align: top;\n",
       "    }\n",
       "\n",
       "    .dataframe thead th {\n",
       "        text-align: right;\n",
       "    }\n",
       "</style>\n",
       "<table border=\"1\" class=\"dataframe\">\n",
       "  <thead>\n",
       "    <tr style=\"text-align: right;\">\n",
       "      <th></th>\n",
       "      <th>TV</th>\n",
       "      <th>Radio</th>\n",
       "      <th>Newspaper</th>\n",
       "      <th>Sales</th>\n",
       "    </tr>\n",
       "  </thead>\n",
       "  <tbody>\n",
       "    <tr>\n",
       "      <th>0</th>\n",
       "      <td>230.1</td>\n",
       "      <td>37.8</td>\n",
       "      <td>69.2</td>\n",
       "      <td>22.1</td>\n",
       "    </tr>\n",
       "    <tr>\n",
       "      <th>1</th>\n",
       "      <td>44.5</td>\n",
       "      <td>39.3</td>\n",
       "      <td>45.1</td>\n",
       "      <td>10.4</td>\n",
       "    </tr>\n",
       "    <tr>\n",
       "      <th>2</th>\n",
       "      <td>17.2</td>\n",
       "      <td>45.9</td>\n",
       "      <td>69.3</td>\n",
       "      <td>12.0</td>\n",
       "    </tr>\n",
       "    <tr>\n",
       "      <th>3</th>\n",
       "      <td>151.5</td>\n",
       "      <td>41.3</td>\n",
       "      <td>58.5</td>\n",
       "      <td>16.5</td>\n",
       "    </tr>\n",
       "    <tr>\n",
       "      <th>4</th>\n",
       "      <td>180.8</td>\n",
       "      <td>10.8</td>\n",
       "      <td>58.4</td>\n",
       "      <td>17.9</td>\n",
       "    </tr>\n",
       "    <tr>\n",
       "      <th>...</th>\n",
       "      <td>...</td>\n",
       "      <td>...</td>\n",
       "      <td>...</td>\n",
       "      <td>...</td>\n",
       "    </tr>\n",
       "    <tr>\n",
       "      <th>195</th>\n",
       "      <td>38.2</td>\n",
       "      <td>3.7</td>\n",
       "      <td>13.8</td>\n",
       "      <td>7.6</td>\n",
       "    </tr>\n",
       "    <tr>\n",
       "      <th>196</th>\n",
       "      <td>94.2</td>\n",
       "      <td>4.9</td>\n",
       "      <td>8.1</td>\n",
       "      <td>14.0</td>\n",
       "    </tr>\n",
       "    <tr>\n",
       "      <th>197</th>\n",
       "      <td>177.0</td>\n",
       "      <td>9.3</td>\n",
       "      <td>6.4</td>\n",
       "      <td>14.8</td>\n",
       "    </tr>\n",
       "    <tr>\n",
       "      <th>198</th>\n",
       "      <td>283.6</td>\n",
       "      <td>42.0</td>\n",
       "      <td>66.2</td>\n",
       "      <td>25.5</td>\n",
       "    </tr>\n",
       "    <tr>\n",
       "      <th>199</th>\n",
       "      <td>232.1</td>\n",
       "      <td>8.6</td>\n",
       "      <td>8.7</td>\n",
       "      <td>18.4</td>\n",
       "    </tr>\n",
       "  </tbody>\n",
       "</table>\n",
       "<p>200 rows × 4 columns</p>\n",
       "</div>"
      ],
      "text/plain": [
       "        TV  Radio  Newspaper  Sales\n",
       "0    230.1   37.8       69.2   22.1\n",
       "1     44.5   39.3       45.1   10.4\n",
       "2     17.2   45.9       69.3   12.0\n",
       "3    151.5   41.3       58.5   16.5\n",
       "4    180.8   10.8       58.4   17.9\n",
       "..     ...    ...        ...    ...\n",
       "195   38.2    3.7       13.8    7.6\n",
       "196   94.2    4.9        8.1   14.0\n",
       "197  177.0    9.3        6.4   14.8\n",
       "198  283.6   42.0       66.2   25.5\n",
       "199  232.1    8.6        8.7   18.4\n",
       "\n",
       "[200 rows x 4 columns]"
      ]
     },
     "execution_count": 40,
     "metadata": {},
     "output_type": "execute_result"
    }
   ],
   "source": [
    "dataset"
   ]
  },
  {
   "cell_type": "code",
   "execution_count": 42,
   "id": "dc3cd477-dfbe-4009-a672-20fbf658441c",
   "metadata": {},
   "outputs": [
    {
     "data": {
      "text/html": [
       "<div>\n",
       "<style scoped>\n",
       "    .dataframe tbody tr th:only-of-type {\n",
       "        vertical-align: middle;\n",
       "    }\n",
       "\n",
       "    .dataframe tbody tr th {\n",
       "        vertical-align: top;\n",
       "    }\n",
       "\n",
       "    .dataframe thead th {\n",
       "        text-align: right;\n",
       "    }\n",
       "</style>\n",
       "<table border=\"1\" class=\"dataframe\">\n",
       "  <thead>\n",
       "    <tr style=\"text-align: right;\">\n",
       "      <th></th>\n",
       "      <th>TV</th>\n",
       "      <th>Radio</th>\n",
       "      <th>Newspaper</th>\n",
       "      <th>Sales</th>\n",
       "    </tr>\n",
       "  </thead>\n",
       "  <tbody>\n",
       "    <tr>\n",
       "      <th>0</th>\n",
       "      <td>230.1</td>\n",
       "      <td>37.8</td>\n",
       "      <td>69.2</td>\n",
       "      <td>22.1</td>\n",
       "    </tr>\n",
       "    <tr>\n",
       "      <th>1</th>\n",
       "      <td>44.5</td>\n",
       "      <td>39.3</td>\n",
       "      <td>45.1</td>\n",
       "      <td>10.4</td>\n",
       "    </tr>\n",
       "    <tr>\n",
       "      <th>2</th>\n",
       "      <td>17.2</td>\n",
       "      <td>45.9</td>\n",
       "      <td>69.3</td>\n",
       "      <td>12.0</td>\n",
       "    </tr>\n",
       "    <tr>\n",
       "      <th>3</th>\n",
       "      <td>151.5</td>\n",
       "      <td>41.3</td>\n",
       "      <td>58.5</td>\n",
       "      <td>16.5</td>\n",
       "    </tr>\n",
       "    <tr>\n",
       "      <th>4</th>\n",
       "      <td>180.8</td>\n",
       "      <td>10.8</td>\n",
       "      <td>58.4</td>\n",
       "      <td>17.9</td>\n",
       "    </tr>\n",
       "  </tbody>\n",
       "</table>\n",
       "</div>"
      ],
      "text/plain": [
       "      TV  Radio  Newspaper  Sales\n",
       "0  230.1   37.8       69.2   22.1\n",
       "1   44.5   39.3       45.1   10.4\n",
       "2   17.2   45.9       69.3   12.0\n",
       "3  151.5   41.3       58.5   16.5\n",
       "4  180.8   10.8       58.4   17.9"
      ]
     },
     "execution_count": 42,
     "metadata": {},
     "output_type": "execute_result"
    }
   ],
   "source": [
    "dataset.head()"
   ]
  },
  {
   "cell_type": "code",
   "execution_count": 44,
   "id": "5002f56c-3736-40cd-b787-cb48d4db1972",
   "metadata": {},
   "outputs": [
    {
     "data": {
      "text/html": [
       "<div>\n",
       "<style scoped>\n",
       "    .dataframe tbody tr th:only-of-type {\n",
       "        vertical-align: middle;\n",
       "    }\n",
       "\n",
       "    .dataframe tbody tr th {\n",
       "        vertical-align: top;\n",
       "    }\n",
       "\n",
       "    .dataframe thead th {\n",
       "        text-align: right;\n",
       "    }\n",
       "</style>\n",
       "<table border=\"1\" class=\"dataframe\">\n",
       "  <thead>\n",
       "    <tr style=\"text-align: right;\">\n",
       "      <th></th>\n",
       "      <th>TV</th>\n",
       "      <th>Radio</th>\n",
       "      <th>Newspaper</th>\n",
       "      <th>Sales</th>\n",
       "    </tr>\n",
       "  </thead>\n",
       "  <tbody>\n",
       "    <tr>\n",
       "      <th>195</th>\n",
       "      <td>38.2</td>\n",
       "      <td>3.7</td>\n",
       "      <td>13.8</td>\n",
       "      <td>7.6</td>\n",
       "    </tr>\n",
       "    <tr>\n",
       "      <th>196</th>\n",
       "      <td>94.2</td>\n",
       "      <td>4.9</td>\n",
       "      <td>8.1</td>\n",
       "      <td>14.0</td>\n",
       "    </tr>\n",
       "    <tr>\n",
       "      <th>197</th>\n",
       "      <td>177.0</td>\n",
       "      <td>9.3</td>\n",
       "      <td>6.4</td>\n",
       "      <td>14.8</td>\n",
       "    </tr>\n",
       "    <tr>\n",
       "      <th>198</th>\n",
       "      <td>283.6</td>\n",
       "      <td>42.0</td>\n",
       "      <td>66.2</td>\n",
       "      <td>25.5</td>\n",
       "    </tr>\n",
       "    <tr>\n",
       "      <th>199</th>\n",
       "      <td>232.1</td>\n",
       "      <td>8.6</td>\n",
       "      <td>8.7</td>\n",
       "      <td>18.4</td>\n",
       "    </tr>\n",
       "  </tbody>\n",
       "</table>\n",
       "</div>"
      ],
      "text/plain": [
       "        TV  Radio  Newspaper  Sales\n",
       "195   38.2    3.7       13.8    7.6\n",
       "196   94.2    4.9        8.1   14.0\n",
       "197  177.0    9.3        6.4   14.8\n",
       "198  283.6   42.0       66.2   25.5\n",
       "199  232.1    8.6        8.7   18.4"
      ]
     },
     "execution_count": 44,
     "metadata": {},
     "output_type": "execute_result"
    }
   ],
   "source": [
    "dataset.tail()"
   ]
  },
  {
   "cell_type": "code",
   "execution_count": 48,
   "id": "61e9c687-c29d-4891-9238-1e8edebc5aef",
   "metadata": {},
   "outputs": [
    {
     "data": {
      "text/plain": [
       "Sales\n",
       "11.9    5\n",
       "16.7    5\n",
       "20.7    4\n",
       "11.0    3\n",
       "11.3    3\n",
       "       ..\n",
       "13.4    1\n",
       "24.2    1\n",
       "8.1     1\n",
       "5.5     1\n",
       "25.5    1\n",
       "Name: count, Length: 121, dtype: int64"
      ]
     },
     "execution_count": 48,
     "metadata": {},
     "output_type": "execute_result"
    }
   ],
   "source": [
    "# Distribution of the two classes\n",
    "dataset['Sales'].value_counts()"
   ]
  },
  {
   "cell_type": "code",
   "execution_count": 63,
   "id": "e58de15b-1c93-4737-9720-e4d04087d1ab",
   "metadata": {},
   "outputs": [],
   "source": [
    "# Separating the values of 'sales'\n",
    "sales1 = dataset[dataset.Sales >= 5.0]\n",
    "sales2 = dataset[dataset.Sales >= 10.0]\n",
    "sales3 = dataset[dataset.Sales >= 20.0]\n",
    "sales4 = dataset[dataset.Sales >= 30.0]"
   ]
  },
  {
   "cell_type": "code",
   "execution_count": 67,
   "id": "c82068de-4e6f-42a7-b679-193ae4a315bc",
   "metadata": {},
   "outputs": [
    {
     "name": "stdout",
     "output_type": "stream",
     "text": [
      "(197, 4) (166, 4) (40, 4) (0, 4)\n"
     ]
    }
   ],
   "source": [
    "print(sales1.shape, sales2.shape, sales3.shape, sales4.shape)"
   ]
  },
  {
   "cell_type": "markdown",
   "id": "33d88ec5-9bbc-4eda-94a0-14bb14789aa6",
   "metadata": {},
   "source": [
    "# Under-sampling"
   ]
  },
  {
   "cell_type": "code",
   "execution_count": 70,
   "id": "e78d0c2e-6b63-4596-bb12-a47511ec6e37",
   "metadata": {},
   "outputs": [],
   "source": [
    "sales1 = sales1.sample(n=197)"
   ]
  },
  {
   "cell_type": "code",
   "execution_count": 72,
   "id": "b1f16ba2-f19c-4140-a164-1fc2a7054bb1",
   "metadata": {},
   "outputs": [
    {
     "name": "stdout",
     "output_type": "stream",
     "text": [
      "        TV  Radio  Newspaper  Sales\n",
      "197  177.0    9.3        6.4   14.8\n",
      "42   293.6   27.7        1.8   20.7\n",
      "72    26.8   33.0       19.3    8.8\n",
      "189   18.7   12.1       23.4    6.7\n",
      "14   204.1   32.9       46.0   19.0\n",
      "..     ...    ...        ...    ...\n",
      "148   38.0   40.3       11.9   10.9\n",
      "92   217.7   33.5       59.0   19.4\n",
      "146  240.1    7.3        8.7   18.2\n",
      "16    67.8   36.6      114.0   12.5\n",
      "87   110.7   40.6       63.2   16.0\n",
      "\n",
      "[197 rows x 4 columns]\n"
     ]
    }
   ],
   "source": [
    "print(sales1)"
   ]
  },
  {
   "cell_type": "code",
   "execution_count": 74,
   "id": "1cc22226-7e4e-4a36-beb9-309552bce9e4",
   "metadata": {},
   "outputs": [],
   "source": [
    "sales2 = sales2.sample(n=166)"
   ]
  },
  {
   "cell_type": "code",
   "execution_count": 76,
   "id": "988ec71c-39b9-412f-8036-7c2312ba6022",
   "metadata": {},
   "outputs": [
    {
     "name": "stdout",
     "output_type": "stream",
     "text": [
      "        TV  Radio  Newspaper  Sales\n",
      "17   281.4   39.6       55.8   24.4\n",
      "52   216.4   41.7       39.6   22.6\n",
      "199  232.1    8.6        8.7   18.4\n",
      "35   290.7    4.1        8.5   17.8\n",
      "86    76.3   27.5       16.0   12.0\n",
      "..     ...    ...        ...    ...\n",
      "32    97.2    1.5       30.0   13.2\n",
      "116  139.2   14.3       25.6   12.2\n",
      "180  156.6    2.6        8.3   15.5\n",
      "68   237.4   27.5       11.0   18.9\n",
      "146  240.1    7.3        8.7   18.2\n",
      "\n",
      "[166 rows x 4 columns]\n"
     ]
    }
   ],
   "source": [
    "print(sales2)"
   ]
  },
  {
   "cell_type": "code",
   "execution_count": 78,
   "id": "d0c777cb-3811-490f-bc8a-935b9fd9befe",
   "metadata": {},
   "outputs": [],
   "source": [
    "sales3 = sales3.sample(n=40)"
   ]
  },
  {
   "cell_type": "code",
   "execution_count": 80,
   "id": "f7cdae98-ec93-45f8-8710-543014c734fc",
   "metadata": {
    "scrolled": true
   },
   "outputs": [
    {
     "name": "stdout",
     "output_type": "stream",
     "text": [
      "        TV  Radio  Newspaper  Sales\n",
      "101  296.4   36.3      100.9   23.8\n",
      "175  276.9   48.9       41.8   27.0\n",
      "84   213.5   43.0       33.8   21.7\n",
      "54   262.7   28.8       15.9   20.2\n",
      "97   184.9   21.0       22.0   20.5\n",
      "53   182.6   46.2       58.7   21.2\n",
      "128  220.3   49.0        3.2   24.7\n",
      "139  184.9   43.9        1.7   20.7\n",
      "69   216.8   43.9       27.2   22.3\n",
      "104  238.2   34.3        5.3   20.7\n",
      "27   240.1   16.7       22.9   20.9\n",
      "93   250.9   36.5       72.3   22.2\n",
      "147  243.2   49.0       44.3   25.4\n",
      "55   198.9   49.4       60.0   23.7\n",
      "52   216.4   41.7       39.6   22.6\n",
      "58   210.8   49.6       37.7   23.8\n",
      "183  287.6   43.0       71.8   26.2\n",
      "15   195.4   47.7       52.9   22.4\n",
      "36   266.9   43.8        5.0   25.4\n",
      "47   239.9   41.5       18.5   23.2\n",
      "98   289.7   42.3       51.2   25.4\n",
      "62   239.3   15.5       27.3   20.7\n",
      "111  241.7   38.0       23.2   21.8\n",
      "17   281.4   39.6       55.8   24.4\n",
      "185  205.0   45.1       19.6   22.6\n",
      "85   193.2   18.4       65.7   20.2\n",
      "188  286.0   13.9        3.7   20.9\n",
      "0    230.1   37.8       69.2   22.1\n",
      "169  284.3   10.6        6.4   20.0\n",
      "176  248.4   30.2       20.3   20.2\n",
      "30   292.9   28.3       43.2   21.4\n",
      "113  209.6   20.6       10.7   20.9\n",
      "198  283.6   42.0       66.2   25.5\n",
      "61   261.3   42.7       54.7   24.2\n",
      "39   228.0   37.7       32.0   21.5\n",
      "137  273.7   28.9       59.7   20.8\n",
      "142  220.5   33.2       37.9   20.1\n",
      "154  187.8   21.1        9.5   20.6\n",
      "42   293.6   27.7        1.8   20.7\n",
      "23   228.3   16.9       26.2   20.5\n"
     ]
    }
   ],
   "source": [
    "print(sales3)"
   ]
  },
  {
   "cell_type": "code",
   "execution_count": 84,
   "id": "5efd05c1-ddf8-48a0-9e6a-5b2d51c86c39",
   "metadata": {},
   "outputs": [],
   "source": [
    "sales4 = sales4.sample(n=0)"
   ]
  },
  {
   "cell_type": "code",
   "execution_count": 86,
   "id": "074ceb8f-827b-42e3-9acc-a441c6274881",
   "metadata": {},
   "outputs": [
    {
     "name": "stdout",
     "output_type": "stream",
     "text": [
      "Empty DataFrame\n",
      "Columns: [TV, Radio, Newspaper, Sales]\n",
      "Index: []\n"
     ]
    }
   ],
   "source": [
    "print(sales4)"
   ]
  },
  {
   "cell_type": "markdown",
   "id": "226ea0b1-98f4-481d-8f30-28299ba4f440",
   "metadata": {},
   "source": [
    "# Concatenate the DataFrames"
   ]
  },
  {
   "cell_type": "code",
   "execution_count": 89,
   "id": "444198a1-4a7d-4119-8ca8-931094219988",
   "metadata": {},
   "outputs": [],
   "source": [
    "new_dataset = pd.concat([sales1, sales2, sales3], axis= 0)"
   ]
  },
  {
   "cell_type": "code",
   "execution_count": 91,
   "id": "bf864d7d-ec41-490b-94ed-fa67c280e331",
   "metadata": {},
   "outputs": [
    {
     "data": {
      "text/html": [
       "<div>\n",
       "<style scoped>\n",
       "    .dataframe tbody tr th:only-of-type {\n",
       "        vertical-align: middle;\n",
       "    }\n",
       "\n",
       "    .dataframe tbody tr th {\n",
       "        vertical-align: top;\n",
       "    }\n",
       "\n",
       "    .dataframe thead th {\n",
       "        text-align: right;\n",
       "    }\n",
       "</style>\n",
       "<table border=\"1\" class=\"dataframe\">\n",
       "  <thead>\n",
       "    <tr style=\"text-align: right;\">\n",
       "      <th></th>\n",
       "      <th>TV</th>\n",
       "      <th>Radio</th>\n",
       "      <th>Newspaper</th>\n",
       "      <th>Sales</th>\n",
       "    </tr>\n",
       "  </thead>\n",
       "  <tbody>\n",
       "    <tr>\n",
       "      <th>197</th>\n",
       "      <td>177.0</td>\n",
       "      <td>9.3</td>\n",
       "      <td>6.4</td>\n",
       "      <td>14.8</td>\n",
       "    </tr>\n",
       "    <tr>\n",
       "      <th>42</th>\n",
       "      <td>293.6</td>\n",
       "      <td>27.7</td>\n",
       "      <td>1.8</td>\n",
       "      <td>20.7</td>\n",
       "    </tr>\n",
       "    <tr>\n",
       "      <th>72</th>\n",
       "      <td>26.8</td>\n",
       "      <td>33.0</td>\n",
       "      <td>19.3</td>\n",
       "      <td>8.8</td>\n",
       "    </tr>\n",
       "    <tr>\n",
       "      <th>189</th>\n",
       "      <td>18.7</td>\n",
       "      <td>12.1</td>\n",
       "      <td>23.4</td>\n",
       "      <td>6.7</td>\n",
       "    </tr>\n",
       "    <tr>\n",
       "      <th>14</th>\n",
       "      <td>204.1</td>\n",
       "      <td>32.9</td>\n",
       "      <td>46.0</td>\n",
       "      <td>19.0</td>\n",
       "    </tr>\n",
       "  </tbody>\n",
       "</table>\n",
       "</div>"
      ],
      "text/plain": [
       "        TV  Radio  Newspaper  Sales\n",
       "197  177.0    9.3        6.4   14.8\n",
       "42   293.6   27.7        1.8   20.7\n",
       "72    26.8   33.0       19.3    8.8\n",
       "189   18.7   12.1       23.4    6.7\n",
       "14   204.1   32.9       46.0   19.0"
      ]
     },
     "execution_count": 91,
     "metadata": {},
     "output_type": "execute_result"
    }
   ],
   "source": [
    "new_dataset.head()"
   ]
  },
  {
   "cell_type": "code",
   "execution_count": 93,
   "id": "d617ffdc-9bd8-4ef5-bb9b-187a84f952aa",
   "metadata": {},
   "outputs": [
    {
     "data": {
      "text/html": [
       "<div>\n",
       "<style scoped>\n",
       "    .dataframe tbody tr th:only-of-type {\n",
       "        vertical-align: middle;\n",
       "    }\n",
       "\n",
       "    .dataframe tbody tr th {\n",
       "        vertical-align: top;\n",
       "    }\n",
       "\n",
       "    .dataframe thead th {\n",
       "        text-align: right;\n",
       "    }\n",
       "</style>\n",
       "<table border=\"1\" class=\"dataframe\">\n",
       "  <thead>\n",
       "    <tr style=\"text-align: right;\">\n",
       "      <th></th>\n",
       "      <th>TV</th>\n",
       "      <th>Radio</th>\n",
       "      <th>Newspaper</th>\n",
       "      <th>Sales</th>\n",
       "    </tr>\n",
       "  </thead>\n",
       "  <tbody>\n",
       "    <tr>\n",
       "      <th>137</th>\n",
       "      <td>273.7</td>\n",
       "      <td>28.9</td>\n",
       "      <td>59.7</td>\n",
       "      <td>20.8</td>\n",
       "    </tr>\n",
       "    <tr>\n",
       "      <th>142</th>\n",
       "      <td>220.5</td>\n",
       "      <td>33.2</td>\n",
       "      <td>37.9</td>\n",
       "      <td>20.1</td>\n",
       "    </tr>\n",
       "    <tr>\n",
       "      <th>154</th>\n",
       "      <td>187.8</td>\n",
       "      <td>21.1</td>\n",
       "      <td>9.5</td>\n",
       "      <td>20.6</td>\n",
       "    </tr>\n",
       "    <tr>\n",
       "      <th>42</th>\n",
       "      <td>293.6</td>\n",
       "      <td>27.7</td>\n",
       "      <td>1.8</td>\n",
       "      <td>20.7</td>\n",
       "    </tr>\n",
       "    <tr>\n",
       "      <th>23</th>\n",
       "      <td>228.3</td>\n",
       "      <td>16.9</td>\n",
       "      <td>26.2</td>\n",
       "      <td>20.5</td>\n",
       "    </tr>\n",
       "  </tbody>\n",
       "</table>\n",
       "</div>"
      ],
      "text/plain": [
       "        TV  Radio  Newspaper  Sales\n",
       "137  273.7   28.9       59.7   20.8\n",
       "142  220.5   33.2       37.9   20.1\n",
       "154  187.8   21.1        9.5   20.6\n",
       "42   293.6   27.7        1.8   20.7\n",
       "23   228.3   16.9       26.2   20.5"
      ]
     },
     "execution_count": 93,
     "metadata": {},
     "output_type": "execute_result"
    }
   ],
   "source": [
    "new_dataset.tail()"
   ]
  },
  {
   "cell_type": "code",
   "execution_count": 95,
   "id": "c7200b05-a1f3-4a17-9ca5-526589e239fc",
   "metadata": {},
   "outputs": [
    {
     "data": {
      "text/plain": [
       "Sales\n",
       "20.7    12\n",
       "11.9    10\n",
       "16.7    10\n",
       "20.9     9\n",
       "20.2     9\n",
       "        ..\n",
       "5.9      1\n",
       "9.6      1\n",
       "5.6      1\n",
       "7.0      1\n",
       "8.5      1\n",
       "Name: count, Length: 118, dtype: int64"
      ]
     },
     "execution_count": 95,
     "metadata": {},
     "output_type": "execute_result"
    }
   ],
   "source": [
    "new_dataset['Sales'].value_counts()"
   ]
  }
 ],
 "metadata": {
  "kernelspec": {
   "display_name": "Python 3 (ipykernel)",
   "language": "python",
   "name": "python3"
  },
  "language_info": {
   "codemirror_mode": {
    "name": "ipython",
    "version": 3
   },
   "file_extension": ".py",
   "mimetype": "text/x-python",
   "name": "python",
   "nbconvert_exporter": "python",
   "pygments_lexer": "ipython3",
   "version": "3.11.7"
  }
 },
 "nbformat": 4,
 "nbformat_minor": 5
}
