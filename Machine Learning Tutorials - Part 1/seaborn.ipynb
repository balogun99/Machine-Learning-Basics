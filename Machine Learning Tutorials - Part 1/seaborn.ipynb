{
 "cells": [
  {
   "cell_type": "code",
   "execution_count": 2,
   "id": "7cb5f9f3-53b6-4cfd-9fb4-5866e5af0708",
   "metadata": {},
   "outputs": [],
   "source": [
    "# Importing Libraries\n",
    "\n",
    "import seaborn as sns\n",
    "import matplotlib.pyplot as plt\n",
    "import numpy as np\n",
    "import pandas as pd"
   ]
  },
  {
   "cell_type": "markdown",
   "id": "beb23361-b5e2-4295-9a31-03858fb3b9cc",
   "metadata": {},
   "source": [
    "# Note: Seaborn has some in-built datasets"
   ]
  },
  {
   "cell_type": "code",
   "execution_count": 3,
   "id": "76e52c27-5e84-4871-9ca5-b1282347a73a",
   "metadata": {},
   "outputs": [],
   "source": [
    "# total bill vs tip dataset\n",
    "\n",
    "# tips = sns.load_dataset('tips')"
   ]
  },
  {
   "cell_type": "code",
   "execution_count": 4,
   "id": "af24c6c6-9bda-42e0-be9e-8e7c5be39f92",
   "metadata": {},
   "outputs": [],
   "source": [
    "# tips.head()"
   ]
  },
  {
   "cell_type": "code",
   "execution_count": 5,
   "id": "e4c0cdd5-5e51-4ea3-9683-bb56360e2cc4",
   "metadata": {},
   "outputs": [],
   "source": [
    "# Set a theme for the plot\n",
    "\n",
    "# sns.set_theme()"
   ]
  },
  {
   "cell_type": "code",
   "execution_count": 6,
   "id": "faf06ab3-3ef5-4517-8710-914a52189107",
   "metadata": {},
   "outputs": [],
   "source": [
    "# Visualize the data\n",
    "\n",
    "# sns.relplot(data=tips, x = 'total_bill', y = 'tip', col = 'time', hue = 'smoker', style = 'smoker', size = 'size')"
   ]
  },
  {
   "cell_type": "code",
   "execution_count": 7,
   "id": "52fcb4b9-3bf5-4b80-8ad9-db5517942fda",
   "metadata": {},
   "outputs": [],
   "source": [
    "# Load iris dataset\n",
    "\n",
    "# iris = sns.load_dataset('iris')"
   ]
  },
  {
   "cell_type": "code",
   "execution_count": 8,
   "id": "3a7ba55f-31c5-467c-92a7-2a14403cdc42",
   "metadata": {},
   "outputs": [],
   "source": [
    "# iris.head()"
   ]
  },
  {
   "cell_type": "markdown",
   "id": "56baaa4b-9f8e-4bec-b3aa-f71df9339a67",
   "metadata": {},
   "source": [
    "# Scatterplot"
   ]
  },
  {
   "cell_type": "code",
   "execution_count": 9,
   "id": "1e05747b-ddb5-4edf-bc8c-ae12fc88ce52",
   "metadata": {},
   "outputs": [],
   "source": [
    "# sns.scatterplot(x='sepal_lenght', y='petal_length', hue='species', data=iris)"
   ]
  },
  {
   "cell_type": "code",
   "execution_count": 10,
   "id": "ccf5271d-a272-4abf-98c2-99760a787b7b",
   "metadata": {},
   "outputs": [],
   "source": [
    "# Load the Titanic dataset\n",
    "\n",
    "# titanic = sns.load_dataset('titanic')"
   ]
  },
  {
   "cell_type": "code",
   "execution_count": 11,
   "id": "b484572c-ecd8-42d8-a8a6-a168da42a2f6",
   "metadata": {},
   "outputs": [],
   "source": [
    "# titanic.head()"
   ]
  },
  {
   "cell_type": "markdown",
   "id": "00fc1c1e-9fa7-4c62-b5d2-9d8eb1aa670f",
   "metadata": {},
   "source": [
    "# Count plot"
   ]
  },
  {
   "cell_type": "code",
   "execution_count": 12,
   "id": "d6c1bc3f-420d-45f2-af95-8fad49ba971e",
   "metadata": {},
   "outputs": [],
   "source": [
    "# sns.countplot(x='class', data=titanic)"
   ]
  },
  {
   "cell_type": "code",
   "execution_count": 13,
   "id": "79ae591d-4d81-4d0e-82eb-b182c15a5f91",
   "metadata": {},
   "outputs": [],
   "source": [
    "# titanic.shape"
   ]
  },
  {
   "cell_type": "code",
   "execution_count": 14,
   "id": "ad7e9e34-a9f8-4e1b-b1a9-ed0bab6fdc5b",
   "metadata": {},
   "outputs": [],
   "source": [
    "# sns.countplot(x='survived', data=titanic)"
   ]
  },
  {
   "cell_type": "markdown",
   "id": "cb480936-1bc9-4c56-90e8-e52f221b80f2",
   "metadata": {},
   "source": [
    "# Bar Chart"
   ]
  },
  {
   "cell_type": "code",
   "execution_count": 15,
   "id": "e9a61870-52cd-4f15-91b5-c813451c9c93",
   "metadata": {},
   "outputs": [],
   "source": [
    "# sns.barplot(x='sex', y='survived', hue='class', data=titanic)"
   ]
  },
  {
   "cell_type": "code",
   "execution_count": 16,
   "id": "82ea9eed-5610-4bc1-a2f5-7546bd60d960",
   "metadata": {},
   "outputs": [],
   "source": [
    "# Load boston house price dataset\n",
    "\n",
    "# from sklearn.datasets import fetch_california_housing\n",
    "# housing = fetch_california_housing()\n",
    "\n",
    "# housing = pd.DataFrame(housing.data, columns= housing.feature_names)\n",
    "# housing['PRICE'] = housing.target"
   ]
  },
  {
   "cell_type": "code",
   "execution_count": 17,
   "id": "fb9caefe-5f70-46e9-9e3c-6d97f9116231",
   "metadata": {},
   "outputs": [],
   "source": [
    "# housing.head()"
   ]
  },
  {
   "cell_type": "markdown",
   "id": "f0dae729-1e0d-415d-a85a-c9ffd9197a8c",
   "metadata": {},
   "source": [
    "# Distribution Plot"
   ]
  },
  {
   "cell_type": "code",
   "execution_count": 18,
   "id": "e2df5da4-620a-4c82-be12-4c581708ecbb",
   "metadata": {},
   "outputs": [],
   "source": [
    "# sns.distplot(housing['PRICE'])"
   ]
  },
  {
   "cell_type": "markdown",
   "id": "e4ca559c-9368-4abc-a795-3bd9be203853",
   "metadata": {},
   "source": [
    "# Correlation"
   ]
  },
  {
   "cell_type": "code",
   "execution_count": 19,
   "id": "9a57e1bf-2177-446a-9f4f-3b078a74bc43",
   "metadata": {},
   "outputs": [],
   "source": [
    "# Positive Correlation\n",
    "# Negative Correlation"
   ]
  },
  {
   "cell_type": "markdown",
   "id": "643ad55a-c46f-460c-ac17-51fa84ba6b5f",
   "metadata": {},
   "source": [
    "# Heat Map"
   ]
  },
  {
   "cell_type": "code",
   "execution_count": 20,
   "id": "94ae4c57-fac3-4b2c-8623-d39e43e73756",
   "metadata": {},
   "outputs": [],
   "source": [
    "# correlation = housing.corr()"
   ]
  },
  {
   "cell_type": "code",
   "execution_count": 21,
   "id": "f549c863-dcde-48c7-a526-b0ffc94f2642",
   "metadata": {},
   "outputs": [
    {
     "data": {
      "text/plain": [
       "<Figure size 1000x1000 with 0 Axes>"
      ]
     },
     "execution_count": 21,
     "metadata": {},
     "output_type": "execute_result"
    },
    {
     "data": {
      "text/plain": [
       "<Figure size 1000x1000 with 0 Axes>"
      ]
     },
     "metadata": {},
     "output_type": "display_data"
    }
   ],
   "source": [
    "# Constructing a Heat Map\n",
    "plt.figure(figsize=(10,10))\n",
    "# sns.heatmap(correlation, cbar=True, square=True, fmt='.1f', annot=True, annot_kws=[size=18], cmap='Blues')"
   ]
  }
 ],
 "metadata": {
  "kernelspec": {
   "display_name": "base",
   "language": "python",
   "name": "python3"
  },
  "language_info": {
   "codemirror_mode": {
    "name": "ipython",
    "version": 3
   },
   "file_extension": ".py",
   "mimetype": "text/x-python",
   "name": "python",
   "nbconvert_exporter": "python",
   "pygments_lexer": "ipython3",
   "version": "3.11.7"
  }
 },
 "nbformat": 4,
 "nbformat_minor": 5
}
